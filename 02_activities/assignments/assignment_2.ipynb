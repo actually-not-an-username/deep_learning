{
  "cells": [
    {
      "cell_type": "markdown",
      "id": "7c6788aef474ca12",
      "metadata": {
        "collapsed": false,
        "id": "7c6788aef474ca12"
      },
      "source": [
        "# Text Generation with Recurrent Neural Networks (RNNs)\n",
        "\n",
        "In this assignment, you'll build upon your understanding of RNNs and Keras to develop a word-level text generation model.  Your goal is to train a model that learns the stylistic nuances of a chosen corpus and generates new, original text segments that echo the source material's essence.\n",
        "\n",
        "**Datasets**\n",
        "\n",
        "We've provided several intriguing text corpora to get you started:\n",
        "\n",
        "*   Mark Twain\n",
        "*   Charles Dickens\n",
        "*   William Shakespeare\n",
        "\n",
        "**Feel free to explore!**  If you have a particular passion for another author, genre, or a specific text, you're encouraged to use your own dataset of raw text."
      ]
    },
    {
      "cell_type": "code",
      "execution_count": 1,
      "id": "2d0bfedcfe52aedc",
      "metadata": {
        "colab": {
          "base_uri": "https://localhost:8080/"
        },
        "id": "2d0bfedcfe52aedc",
        "outputId": "6ed362c5-e22e-42bb-fce2-04d88dc8a77d"
      },
      "outputs": [
        {
          "output_type": "stream",
          "name": "stdout",
          "text": [
            "Default GPU Device: /device:GPU:0\n"
          ]
        }
      ],
      "source": [
        "# Check if we have a GPU available\n",
        "import tensorflow as tf\n",
        "\n",
        "if tf.test.gpu_device_name():\n",
        "    print('Default GPU Device: {}'.format(tf.test.gpu_device_name()))\n",
        "else:\n",
        "    print(\"No GPU available. If you're on Colab, go to Runtime > Change runtime and select a GPU hardware accelerator.\")"
      ]
    },
    {
      "cell_type": "code",
      "execution_count": 2,
      "id": "9c28c497f620b775",
      "metadata": {
        "ExecuteTime": {
          "end_time": "2024-02-08T21:30:44.959803Z",
          "start_time": "2024-02-08T21:30:44.701343Z"
        },
        "id": "9c28c497f620b775",
        "colab": {
          "base_uri": "https://localhost:8080/"
        },
        "outputId": "09ed147f-fe89-4d34-8104-42ccc262470b"
      },
      "outputs": [
        {
          "output_type": "stream",
          "name": "stdout",
          "text": [
            "Fixed Download URL: https://raw.githubusercontent.com/UofT-DSI/deep_learning/refs/heads/main/02_activities/assignments/downloaded_books/shakespeare.txt\n"
          ]
        }
      ],
      "source": [
        "def download_file(url, file_path):\n",
        "    import requests\n",
        "    r = requests.get(url)\n",
        "    with open(file_path, 'wb') as f:\n",
        "        f.write(r.content)\n",
        "\n",
        "def load_dataset(file_path, fraction=1.0):\n",
        "    with open(file_path, 'r', encoding='utf-8') as f:\n",
        "        raw_text = f.read()\n",
        "    return raw_text[:int(fraction * len(raw_text))]\n",
        "\n",
        "dataset = 'shakespeare.txt' # Other options are mark_twain.txt, charles_dickens.txt\n",
        "\n",
        "uri = 'https://raw.githubusercontent.com/UofT-DSI/deep_learning/refs/heads/main/02_activities/assignments/downloaded_books/'\n",
        "print(f'Fixed Download URL: {uri+dataset}')\n",
        "download_file(f'{uri+dataset}', dataset)\n",
        "\n",
        "# Load chosen dataset. NOTE: If Colab is running out of memory, change the `fraction` parameter to a value between 0 and 1 to load less data.\n",
        "text = load_dataset(dataset, fraction=0.05)"
      ]
    },
    {
      "cell_type": "markdown",
      "id": "dab51c764031e606",
      "metadata": {
        "collapsed": false,
        "id": "dab51c764031e606"
      },
      "source": [
        "# 1. Data Preparation (Complete or Incomplete)\n",
        "\n",
        "Before we can begin training an RNN model, we need to prepare the dataset. This involves cleaning the text, tokenizing words, and creating sequences the model can be trained on.\n",
        "\n",
        "## 1.1 Data Exploration\n",
        "\n",
        "Print the first 1000 characters of the dataset. Report the dataset's size and the number of unique characters it contains."
      ]
    },
    {
      "cell_type": "code",
      "execution_count": 3,
      "id": "BunkZmdkl0Wn",
      "metadata": {
        "colab": {
          "base_uri": "https://localhost:8080/"
        },
        "id": "BunkZmdkl0Wn",
        "outputId": "3e408e96-d68d-4c19-ef09-0a9c25fa34b2"
      },
      "outputs": [
        {
          "output_type": "stream",
          "name": "stdout",
          "text": [
            "First 1000 chars: \n",
            "\n",
            "The Project Gutenberg EBook of Hamlet, by William Shakespeare\n",
            "\n",
            "This eBook is for the use of anyone anywhere at no cost and with\n",
            "almost no restrictions whatsoever.  You may copy it, give it away or\n",
            "re-use it under the terms of the Project Gutenberg License included\n",
            "with this eBook or online at www.gutenberg.org\n",
            "\n",
            "\n",
            "Title: Hamlet\n",
            "\n",
            "Author: William Shakespeare\n",
            "\n",
            "Editor: Charles Kean\n",
            "\n",
            "Release Date: January 10, 2009 [EBook #27761]\n",
            "\n",
            "Language: English\n",
            "\n",
            "Character set encoding: UTF-8\n",
            "\n",
            "*** START OF THIS PROJECT GUTENBERG EBOOK HAMLET ***\n",
            "\n",
            "\n",
            "\n",
            "\n",
            "Produced by David Starner, Curtis Weyant and the Online\n",
            "Distributed Proofreading Team at https://www.pgdp.net\n",
            "\n",
            "\n",
            "\n",
            "\n",
            "\n",
            "\n",
            "\n",
            "\n",
            "\n",
            "    Transcriber's Note:\n",
            "    This is a heavily edited version of _Hamlet_. It was used\n",
            "    for Charles Kean's 1859 stage production. Phrases printed\n",
            "    in italics in the book are indicated in this electronic\n",
            "    version by _ (underscore). Footnotes originally appeared\n",
            "    at the bottom of each page. For this electronic version\n",
            "    the footnotes \n"
          ]
        }
      ],
      "source": [
        "print(f'First 1000 chars: \\n\\n{text[:1000]}')\n"
      ]
    },
    {
      "cell_type": "code",
      "execution_count": 4,
      "id": "078d0e98",
      "metadata": {
        "colab": {
          "base_uri": "https://localhost:8080/"
        },
        "id": "078d0e98",
        "outputId": "40ef5a69-bb78-45ba-a829-40b7b6f99862"
      },
      "outputs": [
        {
          "output_type": "stream",
          "name": "stdout",
          "text": [
            "dataset size: 467943 characters\n"
          ]
        }
      ],
      "source": [
        "print(f'dataset size: {len(text)} characters')"
      ]
    },
    {
      "cell_type": "code",
      "execution_count": 5,
      "id": "25b6f9fa",
      "metadata": {
        "colab": {
          "base_uri": "https://localhost:8080/"
        },
        "id": "25b6f9fa",
        "outputId": "391bea83-5e28-4b5a-f194-7939ec612aee"
      },
      "outputs": [
        {
          "output_type": "stream",
          "name": "stdout",
          "text": [
            "number of unique characters: 105\n",
            "number of unique words: 18030\n"
          ]
        }
      ],
      "source": [
        "print(f'number of unique characters: {len(set(text))}') # this is case sensitive ;)\n",
        "unique_words = len(set(text.split()))\n",
        "print(f'number of unique words: {unique_words}') # well and what about words?"
      ]
    },
    {
      "cell_type": "markdown",
      "id": "3ae1639f5ecfe587",
      "metadata": {
        "collapsed": false,
        "id": "3ae1639f5ecfe587"
      },
      "source": [
        "## 1.2 Text Pre-Processing\n",
        "\n",
        "To prepare the dataset for training, we need to clean the text and create a numerical representation the model can interpret. Perform the following pre-processing steps:\n",
        "\n",
        "*   Convert the entire text to lowercase.\n",
        "*   Use the `Tokenizer` class from the `keras.preprocessing.text` module to tokenize the text. You should fit the tokenizer on the text and then convert the text to a sequence of numbers. You can use the `texts_to_sequences` method to do this.\n",
        "\n",
        "**Note**:\n",
        "* You'll need to specify an appropriate size for the vocabulary. The number of words in the list of most common words can serve as a guide - does it seem like a reasonable vocabulary size?\n",
        "* Some of the words will be excluded from the vocabulary, as they don't appear often enough. It's important to provide a value for `oov_token` when creating the Tokenizer instance, so that these words can be represented as \"unknown\"."
      ]
    },
    {
      "cell_type": "code",
      "execution_count": 6,
      "id": "0869737f",
      "metadata": {
        "colab": {
          "base_uri": "https://localhost:8080/"
        },
        "id": "0869737f",
        "outputId": "eea44eed-1751-4f1d-a1ce-482cb76e0e76"
      },
      "outputs": [
        {
          "output_type": "stream",
          "name": "stdout",
          "text": [
            "Validation of first 200 chars: \n",
            "\n",
            "the project gutenberg ebook of hamlet, by william shakespeare\n",
            "\n",
            "this ebook is for the use of anyone anywhere at no cost and with\n",
            "almost no restrictions whatsoever.  you may copy it, give it away or\n",
            "re-\n"
          ]
        }
      ],
      "source": [
        "text = text.lower() # convert text to lowercase\n",
        "print(f'Validation of first 200 chars: \\n\\n{text[:200]}')"
      ]
    },
    {
      "cell_type": "code",
      "execution_count": 7,
      "id": "4d0d30cd98ea453c",
      "metadata": {
        "id": "4d0d30cd98ea453c",
        "colab": {
          "base_uri": "https://localhost:8080/"
        },
        "outputId": "9496b6dd-bcff-46e4-fe9f-1e40a1febfdf"
      },
      "outputs": [
        {
          "output_type": "stream",
          "name": "stdout",
          "text": [
            "VOCAB_SIZE 7212\n",
            "Unique tokens: 8820\n"
          ]
        }
      ],
      "source": [
        "from tensorflow.keras.preprocessing.text import Tokenizer\n",
        "\n",
        "# taking into account that there are ~28000 unique words in the dataset\n",
        "#  I want to test if around 40% of them will make it as a good threshold\n",
        "VOCAB_SIZE = int(unique_words * 0.4)\n",
        "OOV_TOKEN = 'UNK'\n",
        "\n",
        "tokenizer = Tokenizer(num_words=VOCAB_SIZE, oov_token=OOV_TOKEN)\n",
        "tokenizer.fit_on_texts([text])\n",
        "\n",
        "# Take a look a the word index\n",
        "word_index = tokenizer.word_index\n",
        "\n",
        "print(f'VOCAB_SIZE {VOCAB_SIZE}')\n",
        "print(f\"Unique tokens: {len(word_index)}\")\n"
      ]
    },
    {
      "cell_type": "markdown",
      "id": "89d32bb9356f711",
      "metadata": {
        "collapsed": false,
        "id": "89d32bb9356f711"
      },
      "source": [
        "If everything worked, the following line should show you the first 10 words in the vocabulary:"
      ]
    },
    {
      "cell_type": "code",
      "execution_count": 8,
      "id": "6a7cd547a19feece",
      "metadata": {
        "colab": {
          "base_uri": "https://localhost:8080/"
        },
        "id": "6a7cd547a19feece",
        "outputId": "abf6c6b4-b442-4956-93a3-82239557b1e7"
      },
      "outputs": [
        {
          "output_type": "stream",
          "name": "stdout",
          "text": [
            "[('UNK', 1), ('the', 2), ('and', 3), ('of', 4), ('to', 5), ('a', 6), ('i', 7), ('in', 8), ('you', 9), ('my', 10)]\n"
          ]
        }
      ],
      "source": [
        "try:\n",
        "    print(list(tokenizer.word_index.items())[:10])\n",
        "except AttributeError:\n",
        "    print(\"Tokenizer has not been initialized. Possible issue: Complete the relevant section of the assignment to initialize it.\"\n",
        ")"
      ]
    },
    {
      "cell_type": "markdown",
      "id": "da504e4bc6617613",
      "metadata": {
        "collapsed": false,
        "id": "da504e4bc6617613"
      },
      "source": [
        "## 1.3 Sequence Generation\n",
        "\n",
        "Now that the text has been tokenized, we need to create sequences the model can be trained on. There are two parts to this:\n",
        "\n",
        "*   Use the `texts_to_sequences` method from the tokenizer to convert the text to a list of sequences of numbers.\n",
        "*   Generate the training sequences. Each training sequence should contain `SEQ_LENGTH` token IDs from the text. The target token for each sequence should be the word that follows the sequence in the text."
      ]
    },
    {
      "cell_type": "code",
      "execution_count": 9,
      "id": "4ff5fc8d0273709c",
      "metadata": {
        "id": "4ff5fc8d0273709c"
      },
      "outputs": [],
      "source": [
        "import numpy as np\n",
        "\n",
        "# since the average lenght is from 10 to 20 words for general purpose writing I'll be using 20ß\n",
        "SEQ_LENGTH = 20 # Choose an appropriate sequence length\n",
        "\n",
        "# Convert the text to a list of sequences of numbers\n",
        "sequences = tokenizer.texts_to_sequences([text])[0]\n",
        "\n",
        "# Generate the training sequences\n",
        "X = []\n",
        "y = []\n",
        "\n",
        "for i in range(len(sequences) - SEQ_LENGTH):\n",
        "    X.append(sequences[i:i+SEQ_LENGTH])\n",
        "    y.append(sequences[i+SEQ_LENGTH])\n",
        "\n",
        "# Convert lists to NumPy arrays\n",
        "# X = np.array(X)\n",
        "# y = np.array(y)"
      ]
    },
    {
      "cell_type": "code",
      "execution_count": 10,
      "id": "e2e4899b",
      "metadata": {
        "colab": {
          "base_uri": "https://localhost:8080/"
        },
        "id": "e2e4899b",
        "outputId": "9b4aae49-d500-4ab7-e03f-0a6faee34f34"
      },
      "outputs": [
        {
          "output_type": "execute_result",
          "data": {
            "text/plain": [
              "77301"
            ]
          },
          "metadata": {},
          "execution_count": 10
        }
      ],
      "source": [
        "len(sequences)"
      ]
    },
    {
      "cell_type": "markdown",
      "id": "3b6bdc0deb930df1",
      "metadata": {
        "collapsed": false,
        "id": "3b6bdc0deb930df1"
      },
      "source": [
        "Assuming your sequences are stored in `X` and the corresponding targets in `y`, the following line should print the first training sequence and its target:"
      ]
    },
    {
      "cell_type": "code",
      "execution_count": 11,
      "id": "a495cab04001ce92",
      "metadata": {
        "colab": {
          "base_uri": "https://localhost:8080/"
        },
        "id": "a495cab04001ce92",
        "outputId": "2a928348-b35f-462e-933d-0bb8989ddca9"
      },
      "outputs": [
        {
          "output_type": "stream",
          "name": "stdout",
          "text": [
            "Sequence: [2, 58, 56, 374, 4, 93, 30, 588, 223, 15, 374, 12, 18, 2, 165, 4, 715, 1374, 40, 41]\n",
            "Target: 1075\n",
            "Translated back to words: ['the', 'project', 'gutenberg', 'ebook', 'of', 'hamlet', 'by', 'william', 'shakespeare', 'this', 'ebook', 'is', 'for', 'the', 'use', 'of', 'anyone', 'anywhere', 'at', 'no'] -> cost\n"
          ]
        }
      ],
      "source": [
        "if len(X) > 0 and len(y) > 0:\n",
        "    print(f'Sequence: {X[0]}\\nTarget: {y[0]}')\n",
        "    print(f'Translated back to words: {[tokenizer.index_word[i] for i in X[0]]} -> {tokenizer.index_word[y[0]]}')\n",
        "else:\n",
        "    print(\"Training sequences have not been generated. Possible issue: Complete the relevant section of the assignment to initialize it.\")\n"
      ]
    },
    {
      "cell_type": "markdown",
      "id": "d5bb2c55da17aaa0",
      "metadata": {
        "collapsed": false,
        "id": "d5bb2c55da17aaa0"
      },
      "source": [
        "And the following code will transform y into a one-hot encoded matrix, and split everything into training and validation sets:"
      ]
    },
    {
      "cell_type": "code",
      "execution_count": 12,
      "id": "3a929b2e6c2cc921",
      "metadata": {
        "colab": {
          "base_uri": "https://localhost:8080/"
        },
        "id": "3a929b2e6c2cc921",
        "outputId": "82812554-bbc3-489f-d8eb-8390f156bc3d"
      },
      "outputs": [
        {
          "output_type": "stream",
          "name": "stdout",
          "text": [
            "X_train shape: (60537, 20)\n",
            "y_train shape: (60537, 7212)\n"
          ]
        }
      ],
      "source": [
        "from sklearn.model_selection import train_test_split\n",
        "from keras.utils import to_categorical\n",
        "import numpy as np\n",
        "\n",
        "# Ensure that tokenizer has been initialized\n",
        "if tokenizer is not None:\n",
        "    # Convert X and y to numpy arrays\n",
        "    X = np.array(X)\n",
        "    y = np.array(y)\n",
        "\n",
        "    # One last thing: let's drop any examples where the target is the OOV token - we don't want our model to predict that (boring!)\n",
        "    if OOV_TOKEN in tokenizer.word_index:\n",
        "        mask = y != tokenizer.word_index[OOV_TOKEN]\n",
        "        X = X[mask]\n",
        "        y = y[mask]\n",
        "\n",
        "    # One-hot encode the target token\n",
        "    y = to_categorical(y, num_classes=VOCAB_SIZE)\n",
        "\n",
        "    # Split the data into training and validation sets\n",
        "    X_train, X_val, y_train, y_val = train_test_split(X, y, test_size=0.2, random_state=42)\n",
        "\n",
        "    print(f'X_train shape: {X_train.shape}')\n",
        "    print(f'y_train shape: {y_train.shape}')\n",
        "else:\n",
        "    print(\"Tokenizer has not been initialized. Please initialize it and load the vocabulary before continuing.\")\n"
      ]
    },
    {
      "cell_type": "markdown",
      "id": "b6e4161897210434",
      "metadata": {
        "collapsed": false,
        "id": "b6e4161897210434"
      },
      "source": [
        "# 2. Model Development (Complete or Incomplete)\n",
        "\n",
        "With the dataset prepared, it's time to develop the RNN model. You'll need to define the architecture of the model, compile it, and prepare it for training.\n",
        "\n",
        "## 2.1 Model Architecture\n",
        "\n",
        "Define the architecture of your RNN model. You can design it however you like, but there are a few features that it's important to include:\n",
        "\n",
        "*   An embedding layer that learns a dense representation of the input tokens. You'll need to specify the input dimension (the size of the vocabulary) and the output dimension (the size of the dense representation). Remember, you can look at the documentation [here](https://keras.io/api/layers/core_layers/embedding/).\n",
        "*   At least one recurrent layer. We have learned how to use LSTM layers in class, but you can use other types of recurrent layers if you prefer. You can find the documentation [here](https://keras.io/api/layers/recurrent_layers/lstm/).\n",
        "*   A dense layer with a softmax activation function. This layer will output a probability distribution over the vocabulary, so that the model can make predictions about the next token."
      ]
    },
    {
      "cell_type": "code",
      "execution_count": 13,
      "id": "9fdfaad93818fc8d",
      "metadata": {
        "colab": {
          "base_uri": "https://localhost:8080/",
          "height": 240
        },
        "id": "9fdfaad93818fc8d",
        "outputId": "f6ce7c44-3585-41b3-bef1-e4ddb041ca92"
      },
      "outputs": [
        {
          "output_type": "display_data",
          "data": {
            "text/plain": [
              "\u001b[1mModel: \"sequential\"\u001b[0m\n"
            ],
            "text/html": [
              "<pre style=\"white-space:pre;overflow-x:auto;line-height:normal;font-family:Menlo,'DejaVu Sans Mono',consolas,'Courier New',monospace\"><span style=\"font-weight: bold\">Model: \"sequential\"</span>\n",
              "</pre>\n"
            ]
          },
          "metadata": {}
        },
        {
          "output_type": "display_data",
          "data": {
            "text/plain": [
              "┏━━━━━━━━━━━━━━━━━━━━━━━━━━━━━━━━━━━━━━┳━━━━━━━━━━━━━━━━━━━━━━━━━━━━━┳━━━━━━━━━━━━━━━━━┓\n",
              "┃\u001b[1m \u001b[0m\u001b[1mLayer (type)                        \u001b[0m\u001b[1m \u001b[0m┃\u001b[1m \u001b[0m\u001b[1mOutput Shape               \u001b[0m\u001b[1m \u001b[0m┃\u001b[1m \u001b[0m\u001b[1m        Param #\u001b[0m\u001b[1m \u001b[0m┃\n",
              "┡━━━━━━━━━━━━━━━━━━━━━━━━━━━━━━━━━━━━━━╇━━━━━━━━━━━━━━━━━━━━━━━━━━━━━╇━━━━━━━━━━━━━━━━━┩\n",
              "│ embedding (\u001b[38;5;33mEmbedding\u001b[0m)                │ ?                           │     \u001b[38;5;34m0\u001b[0m (unbuilt) │\n",
              "├──────────────────────────────────────┼─────────────────────────────┼─────────────────┤\n",
              "│ lstm (\u001b[38;5;33mLSTM\u001b[0m)                          │ ?                           │     \u001b[38;5;34m0\u001b[0m (unbuilt) │\n",
              "├──────────────────────────────────────┼─────────────────────────────┼─────────────────┤\n",
              "│ dense (\u001b[38;5;33mDense\u001b[0m)                        │ ?                           │     \u001b[38;5;34m0\u001b[0m (unbuilt) │\n",
              "└──────────────────────────────────────┴─────────────────────────────┴─────────────────┘\n"
            ],
            "text/html": [
              "<pre style=\"white-space:pre;overflow-x:auto;line-height:normal;font-family:Menlo,'DejaVu Sans Mono',consolas,'Courier New',monospace\">┏━━━━━━━━━━━━━━━━━━━━━━━━━━━━━━━━━━━━━━┳━━━━━━━━━━━━━━━━━━━━━━━━━━━━━┳━━━━━━━━━━━━━━━━━┓\n",
              "┃<span style=\"font-weight: bold\"> Layer (type)                         </span>┃<span style=\"font-weight: bold\"> Output Shape                </span>┃<span style=\"font-weight: bold\">         Param # </span>┃\n",
              "┡━━━━━━━━━━━━━━━━━━━━━━━━━━━━━━━━━━━━━━╇━━━━━━━━━━━━━━━━━━━━━━━━━━━━━╇━━━━━━━━━━━━━━━━━┩\n",
              "│ embedding (<span style=\"color: #0087ff; text-decoration-color: #0087ff\">Embedding</span>)                │ ?                           │     <span style=\"color: #00af00; text-decoration-color: #00af00\">0</span> (unbuilt) │\n",
              "├──────────────────────────────────────┼─────────────────────────────┼─────────────────┤\n",
              "│ lstm (<span style=\"color: #0087ff; text-decoration-color: #0087ff\">LSTM</span>)                          │ ?                           │     <span style=\"color: #00af00; text-decoration-color: #00af00\">0</span> (unbuilt) │\n",
              "├──────────────────────────────────────┼─────────────────────────────┼─────────────────┤\n",
              "│ dense (<span style=\"color: #0087ff; text-decoration-color: #0087ff\">Dense</span>)                        │ ?                           │     <span style=\"color: #00af00; text-decoration-color: #00af00\">0</span> (unbuilt) │\n",
              "└──────────────────────────────────────┴─────────────────────────────┴─────────────────┘\n",
              "</pre>\n"
            ]
          },
          "metadata": {}
        },
        {
          "output_type": "display_data",
          "data": {
            "text/plain": [
              "\u001b[1m Total params: \u001b[0m\u001b[38;5;34m0\u001b[0m (0.00 B)\n"
            ],
            "text/html": [
              "<pre style=\"white-space:pre;overflow-x:auto;line-height:normal;font-family:Menlo,'DejaVu Sans Mono',consolas,'Courier New',monospace\"><span style=\"font-weight: bold\"> Total params: </span><span style=\"color: #00af00; text-decoration-color: #00af00\">0</span> (0.00 B)\n",
              "</pre>\n"
            ]
          },
          "metadata": {}
        },
        {
          "output_type": "display_data",
          "data": {
            "text/plain": [
              "\u001b[1m Trainable params: \u001b[0m\u001b[38;5;34m0\u001b[0m (0.00 B)\n"
            ],
            "text/html": [
              "<pre style=\"white-space:pre;overflow-x:auto;line-height:normal;font-family:Menlo,'DejaVu Sans Mono',consolas,'Courier New',monospace\"><span style=\"font-weight: bold\"> Trainable params: </span><span style=\"color: #00af00; text-decoration-color: #00af00\">0</span> (0.00 B)\n",
              "</pre>\n"
            ]
          },
          "metadata": {}
        },
        {
          "output_type": "display_data",
          "data": {
            "text/plain": [
              "\u001b[1m Non-trainable params: \u001b[0m\u001b[38;5;34m0\u001b[0m (0.00 B)\n"
            ],
            "text/html": [
              "<pre style=\"white-space:pre;overflow-x:auto;line-height:normal;font-family:Menlo,'DejaVu Sans Mono',consolas,'Courier New',monospace\"><span style=\"font-weight: bold\"> Non-trainable params: </span><span style=\"color: #00af00; text-decoration-color: #00af00\">0</span> (0.00 B)\n",
              "</pre>\n"
            ]
          },
          "metadata": {}
        }
      ],
      "source": [
        "from keras.models import Sequential\n",
        "from keras.layers import Embedding, LSTM, Dense\n",
        "\n",
        "EMBEDDING_DIM=50\n",
        "\n",
        "model = Sequential([\n",
        "    # Embedding layer: input_dim is the vocabulary size,\n",
        "    # output_dim is the embedding size\n",
        "    Embedding(input_dim=VOCAB_SIZE, output_dim=EMBEDDING_DIM),\n",
        "\n",
        "    # Recurrent layer: LSTM.\n",
        "    # units represent the number of neuron layers\n",
        "    LSTM(units=192, return_sequences=False),\n",
        "\n",
        "    # Dense layer: output size is the vocabulary size for predicting the next token.\n",
        "    Dense(VOCAB_SIZE, activation='softmax')\n",
        "])\n",
        "\n",
        "# Check if the model has layers before trying to print the summary\n",
        "if len(model.layers) > 0:\n",
        "    model.summary()\n",
        "else:\n",
        "    print(\"No layers have been added to the model. Please complete the assignment by adding the required layers.\")"
      ]
    },
    {
      "cell_type": "markdown",
      "id": "2fafd2dbb0d589fc",
      "metadata": {
        "collapsed": false,
        "id": "2fafd2dbb0d589fc"
      },
      "source": [
        "## 2.2 Model Compilation\n",
        "\n",
        "Compile the model with an appropriate loss function and optimizer. You might also want to track additional metrics, such as accuracy.\n",
        "\n",
        "Give a short explanation of your choice of loss function and optimizer:\n",
        "\n",
        "_your explanation here_\n",
        "\n",
        "Loss Function: Categorical Crossentropy\n",
        "\n",
        "* Since the ouput of the model is based on one-hot encoded, Categorical Crossentropy makes sense instead of Sparse Categorical Crossentropy which asumes the output is based on simple integers.\n",
        "* This loss function is standard for multi-class classification problems.\n",
        "* It compares the predicted probability distribution with the true one-hot encoded labels, penalizing incorrect predictions.\n",
        "\n",
        "Optimizer: Adam\n",
        "\n",
        "* Provides the capatibility of using adaptive learning rates, making it efficient for tasks with large datasets and complex models like RNNs\n",
        "* The adaptive learning rate helps mitigate the vanishing gradient problem, common in recurrent networks."
      ]
    },
    {
      "cell_type": "code",
      "execution_count": 14,
      "id": "ae4ca7a12051b1fd",
      "metadata": {
        "id": "ae4ca7a12051b1fd",
        "colab": {
          "base_uri": "https://localhost:8080/",
          "height": 240
        },
        "outputId": "36d3dbee-1467-4cce-ec9c-ad89324ee199"
      },
      "outputs": [
        {
          "output_type": "display_data",
          "data": {
            "text/plain": [
              "\u001b[1mModel: \"sequential\"\u001b[0m\n"
            ],
            "text/html": [
              "<pre style=\"white-space:pre;overflow-x:auto;line-height:normal;font-family:Menlo,'DejaVu Sans Mono',consolas,'Courier New',monospace\"><span style=\"font-weight: bold\">Model: \"sequential\"</span>\n",
              "</pre>\n"
            ]
          },
          "metadata": {}
        },
        {
          "output_type": "display_data",
          "data": {
            "text/plain": [
              "┏━━━━━━━━━━━━━━━━━━━━━━━━━━━━━━━━━━━━━━┳━━━━━━━━━━━━━━━━━━━━━━━━━━━━━┳━━━━━━━━━━━━━━━━━┓\n",
              "┃\u001b[1m \u001b[0m\u001b[1mLayer (type)                        \u001b[0m\u001b[1m \u001b[0m┃\u001b[1m \u001b[0m\u001b[1mOutput Shape               \u001b[0m\u001b[1m \u001b[0m┃\u001b[1m \u001b[0m\u001b[1m        Param #\u001b[0m\u001b[1m \u001b[0m┃\n",
              "┡━━━━━━━━━━━━━━━━━━━━━━━━━━━━━━━━━━━━━━╇━━━━━━━━━━━━━━━━━━━━━━━━━━━━━╇━━━━━━━━━━━━━━━━━┩\n",
              "│ embedding (\u001b[38;5;33mEmbedding\u001b[0m)                │ ?                           │     \u001b[38;5;34m0\u001b[0m (unbuilt) │\n",
              "├──────────────────────────────────────┼─────────────────────────────┼─────────────────┤\n",
              "│ lstm (\u001b[38;5;33mLSTM\u001b[0m)                          │ ?                           │     \u001b[38;5;34m0\u001b[0m (unbuilt) │\n",
              "├──────────────────────────────────────┼─────────────────────────────┼─────────────────┤\n",
              "│ dense (\u001b[38;5;33mDense\u001b[0m)                        │ ?                           │     \u001b[38;5;34m0\u001b[0m (unbuilt) │\n",
              "└──────────────────────────────────────┴─────────────────────────────┴─────────────────┘\n"
            ],
            "text/html": [
              "<pre style=\"white-space:pre;overflow-x:auto;line-height:normal;font-family:Menlo,'DejaVu Sans Mono',consolas,'Courier New',monospace\">┏━━━━━━━━━━━━━━━━━━━━━━━━━━━━━━━━━━━━━━┳━━━━━━━━━━━━━━━━━━━━━━━━━━━━━┳━━━━━━━━━━━━━━━━━┓\n",
              "┃<span style=\"font-weight: bold\"> Layer (type)                         </span>┃<span style=\"font-weight: bold\"> Output Shape                </span>┃<span style=\"font-weight: bold\">         Param # </span>┃\n",
              "┡━━━━━━━━━━━━━━━━━━━━━━━━━━━━━━━━━━━━━━╇━━━━━━━━━━━━━━━━━━━━━━━━━━━━━╇━━━━━━━━━━━━━━━━━┩\n",
              "│ embedding (<span style=\"color: #0087ff; text-decoration-color: #0087ff\">Embedding</span>)                │ ?                           │     <span style=\"color: #00af00; text-decoration-color: #00af00\">0</span> (unbuilt) │\n",
              "├──────────────────────────────────────┼─────────────────────────────┼─────────────────┤\n",
              "│ lstm (<span style=\"color: #0087ff; text-decoration-color: #0087ff\">LSTM</span>)                          │ ?                           │     <span style=\"color: #00af00; text-decoration-color: #00af00\">0</span> (unbuilt) │\n",
              "├──────────────────────────────────────┼─────────────────────────────┼─────────────────┤\n",
              "│ dense (<span style=\"color: #0087ff; text-decoration-color: #0087ff\">Dense</span>)                        │ ?                           │     <span style=\"color: #00af00; text-decoration-color: #00af00\">0</span> (unbuilt) │\n",
              "└──────────────────────────────────────┴─────────────────────────────┴─────────────────┘\n",
              "</pre>\n"
            ]
          },
          "metadata": {}
        },
        {
          "output_type": "display_data",
          "data": {
            "text/plain": [
              "\u001b[1m Total params: \u001b[0m\u001b[38;5;34m0\u001b[0m (0.00 B)\n"
            ],
            "text/html": [
              "<pre style=\"white-space:pre;overflow-x:auto;line-height:normal;font-family:Menlo,'DejaVu Sans Mono',consolas,'Courier New',monospace\"><span style=\"font-weight: bold\"> Total params: </span><span style=\"color: #00af00; text-decoration-color: #00af00\">0</span> (0.00 B)\n",
              "</pre>\n"
            ]
          },
          "metadata": {}
        },
        {
          "output_type": "display_data",
          "data": {
            "text/plain": [
              "\u001b[1m Trainable params: \u001b[0m\u001b[38;5;34m0\u001b[0m (0.00 B)\n"
            ],
            "text/html": [
              "<pre style=\"white-space:pre;overflow-x:auto;line-height:normal;font-family:Menlo,'DejaVu Sans Mono',consolas,'Courier New',monospace\"><span style=\"font-weight: bold\"> Trainable params: </span><span style=\"color: #00af00; text-decoration-color: #00af00\">0</span> (0.00 B)\n",
              "</pre>\n"
            ]
          },
          "metadata": {}
        },
        {
          "output_type": "display_data",
          "data": {
            "text/plain": [
              "\u001b[1m Non-trainable params: \u001b[0m\u001b[38;5;34m0\u001b[0m (0.00 B)\n"
            ],
            "text/html": [
              "<pre style=\"white-space:pre;overflow-x:auto;line-height:normal;font-family:Menlo,'DejaVu Sans Mono',consolas,'Courier New',monospace\"><span style=\"font-weight: bold\"> Non-trainable params: </span><span style=\"color: #00af00; text-decoration-color: #00af00\">0</span> (0.00 B)\n",
              "</pre>\n"
            ]
          },
          "metadata": {}
        }
      ],
      "source": [
        "from keras.optimizers import Adam\n",
        "\n",
        "# Compile the model\n",
        "model.compile(\n",
        "    optimizer=Adam(learning_rate=(1e-4)),\n",
        "    loss='categorical_crossentropy',\n",
        "    metrics=['accuracy']\n",
        ")\n",
        "\n",
        "model.summary()"
      ]
    },
    {
      "cell_type": "markdown",
      "id": "c2f0b90a448c4f4b",
      "metadata": {
        "collapsed": false,
        "id": "c2f0b90a448c4f4b"
      },
      "source": [
        "## 2.3 Model Training\n",
        "\n",
        "Train the model on the training data you've prepared.\n",
        "\n",
        "* Train your model for 5 epochs with a batch size of 128. Use the validation data for validation.\n",
        "* Store the training history in a variable called `history`."
      ]
    },
    {
      "cell_type": "code",
      "execution_count": 15,
      "id": "256b1ea138c67ef7",
      "metadata": {
        "colab": {
          "base_uri": "https://localhost:8080/"
        },
        "id": "256b1ea138c67ef7",
        "outputId": "6de0dc68-6d55-4650-fae5-ce974425fff3"
      },
      "outputs": [
        {
          "output_type": "stream",
          "name": "stdout",
          "text": [
            "Epoch 1/5\n",
            "\u001b[1m473/473\u001b[0m \u001b[32m━━━━━━━━━━━━━━━━━━━━\u001b[0m\u001b[37m\u001b[0m \u001b[1m17s\u001b[0m 21ms/step - accuracy: 0.0338 - loss: 7.9665 - val_accuracy: 0.0406 - val_loss: 6.9852\n",
            "Epoch 2/5\n",
            "\u001b[1m473/473\u001b[0m \u001b[32m━━━━━━━━━━━━━━━━━━━━\u001b[0m\u001b[37m\u001b[0m \u001b[1m14s\u001b[0m 14ms/step - accuracy: 0.0389 - loss: 6.8422 - val_accuracy: 0.0406 - val_loss: 7.0033\n",
            "Epoch 3/5\n",
            "\u001b[1m473/473\u001b[0m \u001b[32m━━━━━━━━━━━━━━━━━━━━\u001b[0m\u001b[37m\u001b[0m \u001b[1m11s\u001b[0m 14ms/step - accuracy: 0.0399 - loss: 6.8188 - val_accuracy: 0.0406 - val_loss: 6.9923\n",
            "Epoch 4/5\n",
            "\u001b[1m473/473\u001b[0m \u001b[32m━━━━━━━━━━━━━━━━━━━━\u001b[0m\u001b[37m\u001b[0m \u001b[1m10s\u001b[0m 14ms/step - accuracy: 0.0387 - loss: 6.8036 - val_accuracy: 0.0406 - val_loss: 6.9867\n",
            "Epoch 5/5\n",
            "\u001b[1m473/473\u001b[0m \u001b[32m━━━━━━━━━━━━━━━━━━━━\u001b[0m\u001b[37m\u001b[0m \u001b[1m10s\u001b[0m 14ms/step - accuracy: 0.0393 - loss: 6.7645 - val_accuracy: 0.0406 - val_loss: 6.9825\n"
          ]
        }
      ],
      "source": [
        "history = model.fit(\n",
        "    X_train,\n",
        "    y_train,\n",
        "    validation_data=(X_val, y_val),\n",
        "    epochs=5,\n",
        "    batch_size=128\n",
        ")"
      ]
    },
    {
      "cell_type": "markdown",
      "id": "195c59bf80d2a2c4",
      "metadata": {
        "collapsed": false,
        "id": "195c59bf80d2a2c4"
      },
      "source": [
        "Plot the training history to visualize the model's learning progress. Your plot should include the training and validation loss."
      ]
    },
    {
      "cell_type": "code",
      "execution_count": 16,
      "id": "9e8cacec70d8f313",
      "metadata": {
        "id": "9e8cacec70d8f313"
      },
      "outputs": [],
      "source": [
        "import matplotlib.pyplot as plt\n",
        "\n",
        "def plot_history(history):\n",
        "    plt.figure(figsize=(10, 6))\n",
        "    plt.plot(history.history['loss'], label='Training Loss')\n",
        "    plt.plot(history.history['val_loss'], label='Validation Loss')\n",
        "    plt.title('Loss comparisson in trainning against validation')\n",
        "    plt.xlabel('Epochs')\n",
        "    plt.ylabel('Loss')\n",
        "    plt.legend()\n",
        "    plt.show()"
      ]
    },
    {
      "cell_type": "code",
      "execution_count": 17,
      "id": "8f57352c",
      "metadata": {
        "colab": {
          "base_uri": "https://localhost:8080/",
          "height": 476
        },
        "id": "8f57352c",
        "outputId": "aaca0ffa-5e8c-43f9-b66a-5d2bc3898297"
      },
      "outputs": [
        {
          "output_type": "display_data",
          "data": {
            "text/plain": [
              "<Figure size 1000x600 with 1 Axes>"
            ],
            "image/png": "[encoded data removed]"
          },
          "metadata": {}
        }
      ],
      "source": [
        "plot_history(history)"
      ]
    },
    {
      "cell_type": "markdown",
      "id": "3d9ed71305787aed",
      "metadata": {
        "collapsed": false,
        "id": "3d9ed71305787aed"
      },
      "source": [
        "# 3. Text Generation (Complete or Incomplete)\n",
        "\n",
        "Write a method called `generate_text` that uses the trained model to generate new text. The method should take the following parameters:\n",
        "\n",
        "*   `model`: The trained RNN model.\n",
        "*   `tokenizer`: The tokenizer used to pre-process the text data.\n",
        "*   `seed_text`: The seed text the model will use to generate new text.\n",
        "*   `max_sequence_len`: The maximum length of the sequence used to generate new text.\n",
        "\n",
        "The method should return the generated text.\n",
        "\n",
        "An overview of the text generation process you should follow:\n",
        "\n",
        "1. Tokenize the seed text using the tokenizer we built before.\n",
        "2. Pad the sequences to the same length as the training sequences - you can use the `pad_sequences` method from the `keras.preprocessing.sequence` module, which is documented [here](https://www.tensorflow.org/api_docs/python/tf/keras/preprocessing/sequence/pad_sequences).\n",
        "3. Use the model to predict the next token in the sequence. Remember that the model will output a probability distribution over the vocabulary, so you'll need to use `np.argmax` to find the token with the highest probability.\n",
        "4. Add the predicted token to the sequence and remove the first token.\n",
        "5. Repeat steps 3-4 until you have generated the desired number of tokens.\n",
        "6. Convert the generated token IDs back to words and return the combined result as a single string.\n",
        "\n",
        "This is a challenging task, so don't hesitate to ask for help if you need it. It's okay if the generated text doesn't make much sense yet - we'll work on improving the model next.\n",
        "As a bonus, you can make your method generate \"gpt-style\" by having it print out each word as it's generated, so you can see the text being generated in real time."
      ]
    },
    {
      "cell_type": "code",
      "execution_count": 18,
      "id": "d73dbf278a1265ef",
      "metadata": {
        "id": "d73dbf278a1265ef"
      },
      "outputs": [],
      "source": [
        "from keras.preprocessing.sequence import pad_sequences\n",
        "\n",
        "def get_predicted_word(model, sequence):\n",
        "    \"\"\"\n",
        "    Get the predicted word from the model.\n",
        "    This helper function uses a concept we haven't covered in class yet: temperature.\n",
        "    In essence, a little bit of randomness in what word we predict can make the text more interesting.\n",
        "    \"\"\"\n",
        "\n",
        "    # Use the model to predict the next token in the sequence\n",
        "    yhat = model.predict(sequence, verbose=0)\n",
        "\n",
        "    # Get the index of the predicted word, according to the probabilities\n",
        "    yhat = np.random.choice(range(VOCAB_SIZE), p=yhat.ravel())\n",
        "\n",
        "    return yhat\n",
        "\n",
        "def generate_text(model, tokenizer, seed_text, max_sequence_len):\n",
        "    \"\"\"\n",
        "    Generate new text using the trained model.\n",
        "    You can use the `get_predicted_word` helper function to help you with this.\n",
        "    \"\"\"\n",
        "    # Initialize the generated text with the seed text\n",
        "    generated_text = seed_text\n",
        "\n",
        "    # Generate text for the desired number of tokens\n",
        "    for _ in range(max_sequence_len):\n",
        "        # Tokenize and pad the current sequence\n",
        "        tokenized_sequence = tokenizer.texts_to_sequences([generated_text])[0]\n",
        "        tokenized_sequence = pad_sequences([tokenized_sequence], maxlen=max_sequence_len, padding='pre')\n",
        "\n",
        "        # Predict the next word\n",
        "        predicted_token_id = get_predicted_word(model, tokenized_sequence)\n",
        "\n",
        "        # Get the word corresponding to the predicted token ID\n",
        "        predicted_word = tokenizer.index_word.get(predicted_token_id, '')\n",
        "\n",
        "        # Stop generation if no word is predicted\n",
        "        if predicted_word == '':\n",
        "            break\n",
        "\n",
        "        # Append the predicted word to the generated text\n",
        "        generated_text += ' ' + predicted_word\n",
        "\n",
        "    return generated_text\n",
        "    return None\n"
      ]
    },
    {
      "cell_type": "code",
      "execution_count": 19,
      "id": "f463b0c3df49e2c",
      "metadata": {
        "colab": {
          "base_uri": "https://localhost:8080/",
          "height": 52
        },
        "id": "f463b0c3df49e2c",
        "outputId": "3c3445fe-e786-46b0-9e0f-a1381f8ce4f5"
      },
      "outputs": [
        {
          "output_type": "execute_result",
          "data": {
            "text/plain": [
              "'hamlet and fashion what or good up thoughts hand his favourite herself his sure me with re was charge conj laying'"
            ],
            "application/vnd.google.colaboratory.intrinsic+json": {
              "type": "string"
            }
          },
          "metadata": {},
          "execution_count": 19
        }
      ],
      "source": [
        "# Test the text generation function\n",
        "generate_text(model, tokenizer, 'hamlet', SEQ_LENGTH)"
      ]
    },
    {
      "cell_type": "markdown",
      "id": "5871d836a0135c41",
      "metadata": {
        "collapsed": false,
        "id": "5871d836a0135c41"
      },
      "source": [
        "It's likely that the text generated by your model doesn't make much sense yet. This is because the model hasn't been trained for very long, and the training dataset is relatively small.\n",
        "\n",
        "# 4. Model Refinement (Complete or Incomplete)\n",
        "\n",
        "In this last section, you'll work on improving your model. There are many ways to do this, but here are a few ideas to get you started:\n",
        "\n",
        "* Use pre-trained embeddings: the code below will help you to load pre-trained embeddings through Keras.\n",
        "* Experiment with different model architectures, including the number of layers, the number of units in each layer, and the use of dropout layers.\n",
        "* Train your model for longer. You can also experiment with different batch sizes.\n",
        "\n",
        "Implement and test out at least one of these ideas. If you have other ideas for improving the model, feel free to try them out as well."
      ]
    },
    {
      "cell_type": "code",
      "execution_count": 20,
      "id": "dda8b0f845c20862",
      "metadata": {
        "colab": {
          "base_uri": "https://localhost:8080/"
        },
        "id": "dda8b0f845c20862",
        "outputId": "a029eccf-b8e0-4b7a-ed2e-faac7972693e"
      },
      "outputs": [
        {
          "output_type": "stream",
          "name": "stdout",
          "text": [
            "--2024-12-07 17:32:22--  https://downloads.cs.stanford.edu/nlp/data/glove.6B.zip\n",
            "Resolving downloads.cs.stanford.edu (downloads.cs.stanford.edu)... 171.64.64.22\n",
            "Connecting to downloads.cs.stanford.edu (downloads.cs.stanford.edu)|171.64.64.22|:443... connected.\n",
            "HTTP request sent, awaiting response... 200 OK\n",
            "Length: 862182613 (822M) [application/zip]\n",
            "Saving to: ‘glove.6B.zip.1’\n",
            "\n",
            "glove.6B.zip.1      100%[===================>] 822.24M  4.99MB/s    in 2m 38s  \n",
            "\n",
            "2024-12-07 17:35:01 (5.19 MB/s) - ‘glove.6B.zip.1’ saved [862182613/862182613]\n",
            "\n",
            "Archive:  glove.6B.zip\n",
            "replace glove.6B.50d.txt? [y]es, [n]o, [A]ll, [N]one, [r]ename: "
          ]
        }
      ],
      "source": [
        "!wget https://downloads.cs.stanford.edu/nlp/data/glove.6B.zip\n",
        "!unzip glove.6B.zip"
      ]
    },
    {
      "cell_type": "code",
      "execution_count": 21,
      "id": "e8b777220505635",
      "metadata": {
        "colab": {
          "base_uri": "https://localhost:8080/"
        },
        "id": "e8b777220505635",
        "outputId": "7c83df62-57cb-4e38-9b0c-a618a9ec4b07"
      },
      "outputs": [
        {
          "output_type": "stream",
          "name": "stdout",
          "text": [
            "Found 400000 word vectors.\n"
          ]
        }
      ],
      "source": [
        "# Load the pre-trained embeddings\n",
        "embeddings_index = {}\n",
        "try:\n",
        "    with open('glove.6B.100d.txt', encoding='utf-8') as f:\n",
        "        for line in f:\n",
        "            values = line.split()\n",
        "            word = values[0]\n",
        "            coefs = np.asarray(values[1:], dtype='float32')\n",
        "            embeddings_index[word] = coefs\n",
        "    print(f'Found {len(embeddings_index)} word vectors.')\n",
        "except FileNotFoundError:\n",
        "    print(\"'glove.6B.100d.txt' File not found. Please make sure you have ran the previous cell.\")"
      ]
    },
    {
      "cell_type": "code",
      "execution_count": 22,
      "id": "d3e48ff004757cf2",
      "metadata": {
        "id": "d3e48ff004757cf2"
      },
      "outputs": [],
      "source": [
        "# Check if VOCAB_SIZE is set\n",
        "if VOCAB_SIZE is None:\n",
        "    print(\"You need to complete the previous parts of your assignment in order for this to work.\")\n",
        "else:\n",
        "    # Create an embedding matrix\n",
        "    embedding_matrix = np.zeros((VOCAB_SIZE, 100))\n",
        "    for word, i in tokenizer.word_index.items():\n",
        "        if i < VOCAB_SIZE:\n",
        "            embedding_vector = embeddings_index.get(word)\n",
        "            if embedding_vector is not None:\n",
        "                embedding_matrix[i] = embedding_vector"
      ]
    },
    {
      "cell_type": "code",
      "execution_count": 23,
      "id": "e3d21d5dbbbcf9f9",
      "metadata": {
        "colab": {
          "base_uri": "https://localhost:8080/"
        },
        "id": "e3d21d5dbbbcf9f9",
        "outputId": "3d6aef55-5a6f-4324-9738-80969c44d21e"
      },
      "outputs": [
        {
          "output_type": "stream",
          "name": "stderr",
          "text": [
            "/usr/local/lib/python3.10/dist-packages/keras/src/layers/core/embedding.py:90: UserWarning: Argument `input_length` is deprecated. Just remove it.\n",
            "  warnings.warn(\n"
          ]
        }
      ],
      "source": [
        "# Check if VOCAB_SIZE is set\n",
        "if VOCAB_SIZE is None:\n",
        "    print(\"You need to complete the previous parts of your assignment in order for this to work.\")\n",
        "else:\n",
        "    embedding_layer = Embedding(\n",
        "        VOCAB_SIZE, 100, weights=[embedding_matrix], input_length=SEQ_LENGTH, trainable=False\n",
        "    )"
      ]
    },
    {
      "cell_type": "code",
      "execution_count": 24,
      "id": "236cb723e4e5b3fc",
      "metadata": {
        "colab": {
          "base_uri": "https://localhost:8080/",
          "height": 336
        },
        "id": "236cb723e4e5b3fc",
        "outputId": "1cebe7de-7b0b-4d1b-94bf-d26990adc45f"
      },
      "outputs": [
        {
          "output_type": "display_data",
          "data": {
            "text/plain": [
              "\u001b[1mModel: \"sequential_1\"\u001b[0m\n"
            ],
            "text/html": [
              "<pre style=\"white-space:pre;overflow-x:auto;line-height:normal;font-family:Menlo,'DejaVu Sans Mono',consolas,'Courier New',monospace\"><span style=\"font-weight: bold\">Model: \"sequential_1\"</span>\n",
              "</pre>\n"
            ]
          },
          "metadata": {}
        },
        {
          "output_type": "display_data",
          "data": {
            "text/plain": [
              "┏━━━━━━━━━━━━━━━━━━━━━━━━━━━━━━━━━━━━━━┳━━━━━━━━━━━━━━━━━━━━━━━━━━━━━┳━━━━━━━━━━━━━━━━━┓\n",
              "┃\u001b[1m \u001b[0m\u001b[1mLayer (type)                        \u001b[0m\u001b[1m \u001b[0m┃\u001b[1m \u001b[0m\u001b[1mOutput Shape               \u001b[0m\u001b[1m \u001b[0m┃\u001b[1m \u001b[0m\u001b[1m        Param #\u001b[0m\u001b[1m \u001b[0m┃\n",
              "┡━━━━━━━━━━━━━━━━━━━━━━━━━━━━━━━━━━━━━━╇━━━━━━━━━━━━━━━━━━━━━━━━━━━━━╇━━━━━━━━━━━━━━━━━┩\n",
              "│ embedding_1 (\u001b[38;5;33mEmbedding\u001b[0m)              │ ?                           │         \u001b[38;5;34m721,200\u001b[0m │\n",
              "├──────────────────────────────────────┼─────────────────────────────┼─────────────────┤\n",
              "│ bidirectional (\u001b[38;5;33mBidirectional\u001b[0m)        │ ?                           │     \u001b[38;5;34m0\u001b[0m (unbuilt) │\n",
              "├──────────────────────────────────────┼─────────────────────────────┼─────────────────┤\n",
              "│ dropout (\u001b[38;5;33mDropout\u001b[0m)                    │ ?                           │     \u001b[38;5;34m0\u001b[0m (unbuilt) │\n",
              "├──────────────────────────────────────┼─────────────────────────────┼─────────────────┤\n",
              "│ bidirectional_1 (\u001b[38;5;33mBidirectional\u001b[0m)      │ ?                           │     \u001b[38;5;34m0\u001b[0m (unbuilt) │\n",
              "├──────────────────────────────────────┼─────────────────────────────┼─────────────────┤\n",
              "│ dropout_1 (\u001b[38;5;33mDropout\u001b[0m)                  │ ?                           │     \u001b[38;5;34m0\u001b[0m (unbuilt) │\n",
              "├──────────────────────────────────────┼─────────────────────────────┼─────────────────┤\n",
              "│ dense_1 (\u001b[38;5;33mDense\u001b[0m)                      │ ?                           │     \u001b[38;5;34m0\u001b[0m (unbuilt) │\n",
              "└──────────────────────────────────────┴─────────────────────────────┴─────────────────┘\n"
            ],
            "text/html": [
              "<pre style=\"white-space:pre;overflow-x:auto;line-height:normal;font-family:Menlo,'DejaVu Sans Mono',consolas,'Courier New',monospace\">┏━━━━━━━━━━━━━━━━━━━━━━━━━━━━━━━━━━━━━━┳━━━━━━━━━━━━━━━━━━━━━━━━━━━━━┳━━━━━━━━━━━━━━━━━┓\n",
              "┃<span style=\"font-weight: bold\"> Layer (type)                         </span>┃<span style=\"font-weight: bold\"> Output Shape                </span>┃<span style=\"font-weight: bold\">         Param # </span>┃\n",
              "┡━━━━━━━━━━━━━━━━━━━━━━━━━━━━━━━━━━━━━━╇━━━━━━━━━━━━━━━━━━━━━━━━━━━━━╇━━━━━━━━━━━━━━━━━┩\n",
              "│ embedding_1 (<span style=\"color: #0087ff; text-decoration-color: #0087ff\">Embedding</span>)              │ ?                           │         <span style=\"color: #00af00; text-decoration-color: #00af00\">721,200</span> │\n",
              "├──────────────────────────────────────┼─────────────────────────────┼─────────────────┤\n",
              "│ bidirectional (<span style=\"color: #0087ff; text-decoration-color: #0087ff\">Bidirectional</span>)        │ ?                           │     <span style=\"color: #00af00; text-decoration-color: #00af00\">0</span> (unbuilt) │\n",
              "├──────────────────────────────────────┼─────────────────────────────┼─────────────────┤\n",
              "│ dropout (<span style=\"color: #0087ff; text-decoration-color: #0087ff\">Dropout</span>)                    │ ?                           │     <span style=\"color: #00af00; text-decoration-color: #00af00\">0</span> (unbuilt) │\n",
              "├──────────────────────────────────────┼─────────────────────────────┼─────────────────┤\n",
              "│ bidirectional_1 (<span style=\"color: #0087ff; text-decoration-color: #0087ff\">Bidirectional</span>)      │ ?                           │     <span style=\"color: #00af00; text-decoration-color: #00af00\">0</span> (unbuilt) │\n",
              "├──────────────────────────────────────┼─────────────────────────────┼─────────────────┤\n",
              "│ dropout_1 (<span style=\"color: #0087ff; text-decoration-color: #0087ff\">Dropout</span>)                  │ ?                           │     <span style=\"color: #00af00; text-decoration-color: #00af00\">0</span> (unbuilt) │\n",
              "├──────────────────────────────────────┼─────────────────────────────┼─────────────────┤\n",
              "│ dense_1 (<span style=\"color: #0087ff; text-decoration-color: #0087ff\">Dense</span>)                      │ ?                           │     <span style=\"color: #00af00; text-decoration-color: #00af00\">0</span> (unbuilt) │\n",
              "└──────────────────────────────────────┴─────────────────────────────┴─────────────────┘\n",
              "</pre>\n"
            ]
          },
          "metadata": {}
        },
        {
          "output_type": "display_data",
          "data": {
            "text/plain": [
              "\u001b[1m Total params: \u001b[0m\u001b[38;5;34m721,200\u001b[0m (2.75 MB)\n"
            ],
            "text/html": [
              "<pre style=\"white-space:pre;overflow-x:auto;line-height:normal;font-family:Menlo,'DejaVu Sans Mono',consolas,'Courier New',monospace\"><span style=\"font-weight: bold\"> Total params: </span><span style=\"color: #00af00; text-decoration-color: #00af00\">721,200</span> (2.75 MB)\n",
              "</pre>\n"
            ]
          },
          "metadata": {}
        },
        {
          "output_type": "display_data",
          "data": {
            "text/plain": [
              "\u001b[1m Trainable params: \u001b[0m\u001b[38;5;34m0\u001b[0m (0.00 B)\n"
            ],
            "text/html": [
              "<pre style=\"white-space:pre;overflow-x:auto;line-height:normal;font-family:Menlo,'DejaVu Sans Mono',consolas,'Courier New',monospace\"><span style=\"font-weight: bold\"> Trainable params: </span><span style=\"color: #00af00; text-decoration-color: #00af00\">0</span> (0.00 B)\n",
              "</pre>\n"
            ]
          },
          "metadata": {}
        },
        {
          "output_type": "display_data",
          "data": {
            "text/plain": [
              "\u001b[1m Non-trainable params: \u001b[0m\u001b[38;5;34m721,200\u001b[0m (2.75 MB)\n"
            ],
            "text/html": [
              "<pre style=\"white-space:pre;overflow-x:auto;line-height:normal;font-family:Menlo,'DejaVu Sans Mono',consolas,'Courier New',monospace\"><span style=\"font-weight: bold\"> Non-trainable params: </span><span style=\"color: #00af00; text-decoration-color: #00af00\">721,200</span> (2.75 MB)\n",
              "</pre>\n"
            ]
          },
          "metadata": {}
        }
      ],
      "source": [
        "# Define a new model and train it\n",
        "from keras.layers import Dropout, Bidirectional\n",
        "from keras.regularizers import l2\n",
        "\n",
        "L2_RATE=1e-4\n",
        "\n",
        "model = Sequential([\n",
        "    # Embedding layer with pre-trained weights and no training on embeddings\n",
        "    embedding_layer,\n",
        "\n",
        "    # LSTM layer - Dropped because it did not help too much to the model\n",
        "    # LSTM(units=192, return_sequences=True,kernel_regularizer=l2(L2_RATE)),\n",
        "    # Dropout(0.3),\n",
        "\n",
        "    # Intermediate LSTM layer\n",
        "    Bidirectional(LSTM(units=128, return_sequences=True,kernel_regularizer=l2(L2_RATE))),\n",
        "    Dropout(0.2),\n",
        "\n",
        "    # Final LSTM layer\n",
        "    Bidirectional(LSTM(units=64, return_sequences=False,kernel_regularizer=l2(L2_RATE))),\n",
        "    Dropout(0.4), # Higher dropout to reach the final layer\n",
        "\n",
        "    # Dense output layer\n",
        "    Dense(VOCAB_SIZE, activation='softmax')\n",
        "])\n",
        "\n",
        "# Compile the model\n",
        "model.compile(\n",
        "    # Using gradient clipping to prevent exploding gradients\n",
        "    optimizer=Adam(learning_rate=L2_RATE, clipnorm=1.0), # Using the same LR as L2 rate\n",
        "    loss='categorical_crossentropy',\n",
        "    metrics=['accuracy']\n",
        ")\n",
        "\n",
        "# Summary of the model\n",
        "model.summary()"
      ]
    },
    {
      "cell_type": "code",
      "execution_count": 25,
      "id": "9cae73bb",
      "metadata": {
        "colab": {
          "base_uri": "https://localhost:8080/"
        },
        "id": "9cae73bb",
        "outputId": "c77ca295-5bf1-424a-895b-46cbbaaf469a"
      },
      "outputs": [
        {
          "output_type": "stream",
          "name": "stdout",
          "text": [
            "Epoch 1/100\n",
            "\u001b[1m473/473\u001b[0m \u001b[32m━━━━━━━━━━━━━━━━━━━━\u001b[0m\u001b[37m\u001b[0m \u001b[1m21s\u001b[0m 29ms/step - accuracy: 0.0259 - loss: 8.0962 - val_accuracy: 0.0406 - val_loss: 7.0016 - learning_rate: 1.0000e-04\n",
            "Epoch 2/100\n",
            "\u001b[1m473/473\u001b[0m \u001b[32m━━━━━━━━━━━━━━━━━━━━\u001b[0m\u001b[37m\u001b[0m \u001b[1m11s\u001b[0m 24ms/step - accuracy: 0.0377 - loss: 6.9141 - val_accuracy: 0.0406 - val_loss: 7.0087 - learning_rate: 1.0000e-04\n",
            "Epoch 3/100\n",
            "\u001b[1m473/473\u001b[0m \u001b[32m━━━━━━━━━━━━━━━━━━━━\u001b[0m\u001b[37m\u001b[0m \u001b[1m11s\u001b[0m 24ms/step - accuracy: 0.0406 - loss: 6.8693 - val_accuracy: 0.0406 - val_loss: 7.0069 - learning_rate: 1.0000e-04\n",
            "Epoch 4/100\n",
            "\u001b[1m473/473\u001b[0m \u001b[32m━━━━━━━━━━━━━━━━━━━━\u001b[0m\u001b[37m\u001b[0m \u001b[1m12s\u001b[0m 25ms/step - accuracy: 0.0406 - loss: 6.8465 - val_accuracy: 0.0408 - val_loss: 6.9833 - learning_rate: 1.0000e-04\n",
            "Epoch 5/100\n",
            "\u001b[1m473/473\u001b[0m \u001b[32m━━━━━━━━━━━━━━━━━━━━\u001b[0m\u001b[37m\u001b[0m \u001b[1m24s\u001b[0m 33ms/step - accuracy: 0.0399 - loss: 6.8075 - val_accuracy: 0.0436 - val_loss: 6.9612 - learning_rate: 1.0000e-04\n",
            "Epoch 6/100\n",
            "\u001b[1m473/473\u001b[0m \u001b[32m━━━━━━━━━━━━━━━━━━━━\u001b[0m\u001b[37m\u001b[0m \u001b[1m17s\u001b[0m 26ms/step - accuracy: 0.0421 - loss: 6.7612 - val_accuracy: 0.0459 - val_loss: 6.9316 - learning_rate: 1.0000e-04\n",
            "Epoch 7/100\n",
            "\u001b[1m473/473\u001b[0m \u001b[32m━━━━━━━━━━━━━━━━━━━━\u001b[0m\u001b[37m\u001b[0m \u001b[1m19s\u001b[0m 23ms/step - accuracy: 0.0436 - loss: 6.7309 - val_accuracy: 0.0466 - val_loss: 6.9166 - learning_rate: 1.0000e-04\n",
            "Epoch 8/100\n",
            "\u001b[1m473/473\u001b[0m \u001b[32m━━━━━━━━━━━━━━━━━━━━\u001b[0m\u001b[37m\u001b[0m \u001b[1m20s\u001b[0m 23ms/step - accuracy: 0.0429 - loss: 6.6810 - val_accuracy: 0.0481 - val_loss: 6.8944 - learning_rate: 1.0000e-04\n",
            "Epoch 9/100\n",
            "\u001b[1m473/473\u001b[0m \u001b[32m━━━━━━━━━━━━━━━━━━━━\u001b[0m\u001b[37m\u001b[0m \u001b[1m11s\u001b[0m 22ms/step - accuracy: 0.0450 - loss: 6.6237 - val_accuracy: 0.0471 - val_loss: 6.8778 - learning_rate: 1.0000e-04\n",
            "Epoch 10/100\n",
            "\u001b[1m473/473\u001b[0m \u001b[32m━━━━━━━━━━━━━━━━━━━━\u001b[0m\u001b[37m\u001b[0m \u001b[1m20s\u001b[0m 22ms/step - accuracy: 0.0442 - loss: 6.6047 - val_accuracy: 0.0502 - val_loss: 6.8586 - learning_rate: 1.0000e-04\n",
            "Epoch 11/100\n",
            "\u001b[1m473/473\u001b[0m \u001b[32m━━━━━━━━━━━━━━━━━━━━\u001b[0m\u001b[37m\u001b[0m \u001b[1m20s\u001b[0m 21ms/step - accuracy: 0.0478 - loss: 6.5555 - val_accuracy: 0.0497 - val_loss: 6.8346 - learning_rate: 1.0000e-04\n",
            "Epoch 12/100\n",
            "\u001b[1m473/473\u001b[0m \u001b[32m━━━━━━━━━━━━━━━━━━━━\u001b[0m\u001b[37m\u001b[0m \u001b[1m12s\u001b[0m 24ms/step - accuracy: 0.0485 - loss: 6.5209 - val_accuracy: 0.0500 - val_loss: 6.8219 - learning_rate: 1.0000e-04\n",
            "Epoch 13/100\n",
            "\u001b[1m473/473\u001b[0m \u001b[32m━━━━━━━━━━━━━━━━━━━━\u001b[0m\u001b[37m\u001b[0m \u001b[1m21s\u001b[0m 26ms/step - accuracy: 0.0491 - loss: 6.5057 - val_accuracy: 0.0523 - val_loss: 6.8056 - learning_rate: 1.0000e-04\n",
            "Epoch 14/100\n",
            "\u001b[1m473/473\u001b[0m \u001b[32m━━━━━━━━━━━━━━━━━━━━\u001b[0m\u001b[37m\u001b[0m \u001b[1m20s\u001b[0m 25ms/step - accuracy: 0.0526 - loss: 6.4512 - val_accuracy: 0.0541 - val_loss: 6.7803 - learning_rate: 1.0000e-04\n",
            "Epoch 15/100\n",
            "\u001b[1m473/473\u001b[0m \u001b[32m━━━━━━━━━━━━━━━━━━━━\u001b[0m\u001b[37m\u001b[0m \u001b[1m19s\u001b[0m 23ms/step - accuracy: 0.0515 - loss: 6.4308 - val_accuracy: 0.0570 - val_loss: 6.7751 - learning_rate: 1.0000e-04\n",
            "Epoch 16/100\n",
            "\u001b[1m473/473\u001b[0m \u001b[32m━━━━━━━━━━━━━━━━━━━━\u001b[0m\u001b[37m\u001b[0m \u001b[1m10s\u001b[0m 21ms/step - accuracy: 0.0549 - loss: 6.3793 - val_accuracy: 0.0591 - val_loss: 6.7621 - learning_rate: 1.0000e-04\n",
            "Epoch 17/100\n",
            "\u001b[1m473/473\u001b[0m \u001b[32m━━━━━━━━━━━━━━━━━━━━\u001b[0m\u001b[37m\u001b[0m \u001b[1m12s\u001b[0m 25ms/step - accuracy: 0.0599 - loss: 6.3532 - val_accuracy: 0.0610 - val_loss: 6.7485 - learning_rate: 1.0000e-04\n",
            "Epoch 18/100\n",
            "\u001b[1m473/473\u001b[0m \u001b[32m━━━━━━━━━━━━━━━━━━━━\u001b[0m\u001b[37m\u001b[0m \u001b[1m10s\u001b[0m 21ms/step - accuracy: 0.0586 - loss: 6.3359 - val_accuracy: 0.0597 - val_loss: 6.7302 - learning_rate: 1.0000e-04\n",
            "Epoch 19/100\n",
            "\u001b[1m473/473\u001b[0m \u001b[32m━━━━━━━━━━━━━━━━━━━━\u001b[0m\u001b[37m\u001b[0m \u001b[1m12s\u001b[0m 25ms/step - accuracy: 0.0623 - loss: 6.2947 - val_accuracy: 0.0640 - val_loss: 6.7279 - learning_rate: 1.0000e-04\n",
            "Epoch 20/100\n",
            "\u001b[1m473/473\u001b[0m \u001b[32m━━━━━━━━━━━━━━━━━━━━\u001b[0m\u001b[37m\u001b[0m \u001b[1m24s\u001b[0m 33ms/step - accuracy: 0.0632 - loss: 6.2781 - val_accuracy: 0.0662 - val_loss: 6.7166 - learning_rate: 1.0000e-04\n",
            "Epoch 21/100\n",
            "\u001b[1m473/473\u001b[0m \u001b[32m━━━━━━━━━━━━━━━━━━━━\u001b[0m\u001b[37m\u001b[0m \u001b[1m10s\u001b[0m 20ms/step - accuracy: 0.0668 - loss: 6.2281 - val_accuracy: 0.0651 - val_loss: 6.7123 - learning_rate: 1.0000e-04\n",
            "Epoch 22/100\n",
            "\u001b[1m473/473\u001b[0m \u001b[32m━━━━━━━━━━━━━━━━━━━━\u001b[0m\u001b[37m\u001b[0m \u001b[1m13s\u001b[0m 26ms/step - accuracy: 0.0665 - loss: 6.2163 - val_accuracy: 0.0669 - val_loss: 6.6928 - learning_rate: 1.0000e-04\n",
            "Epoch 23/100\n",
            "\u001b[1m473/473\u001b[0m \u001b[32m━━━━━━━━━━━━━━━━━━━━\u001b[0m\u001b[37m\u001b[0m \u001b[1m9s\u001b[0m 20ms/step - accuracy: 0.0678 - loss: 6.2062 - val_accuracy: 0.0700 - val_loss: 6.6947 - learning_rate: 1.0000e-04\n",
            "Epoch 24/100\n",
            "\u001b[1m473/473\u001b[0m \u001b[32m━━━━━━━━━━━━━━━━━━━━\u001b[0m\u001b[37m\u001b[0m \u001b[1m14s\u001b[0m 27ms/step - accuracy: 0.0695 - loss: 6.1498 - val_accuracy: 0.0709 - val_loss: 6.6802 - learning_rate: 1.0000e-04\n",
            "Epoch 25/100\n",
            "\u001b[1m473/473\u001b[0m \u001b[32m━━━━━━━━━━━━━━━━━━━━\u001b[0m\u001b[37m\u001b[0m \u001b[1m19s\u001b[0m 24ms/step - accuracy: 0.0705 - loss: 6.1242 - val_accuracy: 0.0727 - val_loss: 6.6649 - learning_rate: 1.0000e-04\n",
            "Epoch 26/100\n",
            "\u001b[1m473/473\u001b[0m \u001b[32m━━━━━━━━━━━━━━━━━━━━\u001b[0m\u001b[37m\u001b[0m \u001b[1m9s\u001b[0m 20ms/step - accuracy: 0.0733 - loss: 6.0996 - val_accuracy: 0.0734 - val_loss: 6.6646 - learning_rate: 1.0000e-04\n",
            "Epoch 27/100\n",
            "\u001b[1m473/473\u001b[0m \u001b[32m━━━━━━━━━━━━━━━━━━━━\u001b[0m\u001b[37m\u001b[0m \u001b[1m13s\u001b[0m 26ms/step - accuracy: 0.0732 - loss: 6.0992 - val_accuracy: 0.0731 - val_loss: 6.6620 - learning_rate: 1.0000e-04\n",
            "Epoch 28/100\n",
            "\u001b[1m473/473\u001b[0m \u001b[32m━━━━━━━━━━━━━━━━━━━━\u001b[0m\u001b[37m\u001b[0m \u001b[1m19s\u001b[0m 23ms/step - accuracy: 0.0744 - loss: 6.0547 - val_accuracy: 0.0741 - val_loss: 6.6447 - learning_rate: 1.0000e-04\n",
            "Epoch 29/100\n",
            "\u001b[1m473/473\u001b[0m \u001b[32m━━━━━━━━━━━━━━━━━━━━\u001b[0m\u001b[37m\u001b[0m \u001b[1m20s\u001b[0m 23ms/step - accuracy: 0.0767 - loss: 6.0415 - val_accuracy: 0.0766 - val_loss: 6.6495 - learning_rate: 1.0000e-04\n",
            "Epoch 30/100\n",
            "\u001b[1m473/473\u001b[0m \u001b[32m━━━━━━━━━━━━━━━━━━━━\u001b[0m\u001b[37m\u001b[0m \u001b[1m22s\u001b[0m 25ms/step - accuracy: 0.0755 - loss: 6.0253 - val_accuracy: 0.0775 - val_loss: 6.6352 - learning_rate: 1.0000e-04\n",
            "Epoch 31/100\n",
            "\u001b[1m473/473\u001b[0m \u001b[32m━━━━━━━━━━━━━━━━━━━━\u001b[0m\u001b[37m\u001b[0m \u001b[1m21s\u001b[0m 26ms/step - accuracy: 0.0775 - loss: 5.9932 - val_accuracy: 0.0777 - val_loss: 6.6268 - learning_rate: 1.0000e-04\n",
            "Epoch 32/100\n",
            "\u001b[1m473/473\u001b[0m \u001b[32m━━━━━━━━━━━━━━━━━━━━\u001b[0m\u001b[37m\u001b[0m \u001b[1m20s\u001b[0m 26ms/step - accuracy: 0.0787 - loss: 5.9697 - val_accuracy: 0.0777 - val_loss: 6.6233 - learning_rate: 1.0000e-04\n",
            "Epoch 33/100\n",
            "\u001b[1m473/473\u001b[0m \u001b[32m━━━━━━━━━━━━━━━━━━━━\u001b[0m\u001b[37m\u001b[0m \u001b[1m20s\u001b[0m 25ms/step - accuracy: 0.0786 - loss: 5.9552 - val_accuracy: 0.0782 - val_loss: 6.6284 - learning_rate: 1.0000e-04\n",
            "Epoch 34/100\n",
            "\u001b[1m473/473\u001b[0m \u001b[32m━━━━━━━━━━━━━━━━━━━━\u001b[0m\u001b[37m\u001b[0m \u001b[1m20s\u001b[0m 25ms/step - accuracy: 0.0777 - loss: 5.9286 - val_accuracy: 0.0784 - val_loss: 6.6153 - learning_rate: 1.0000e-04\n",
            "Epoch 35/100\n",
            "\u001b[1m473/473\u001b[0m \u001b[32m━━━━━━━━━━━━━━━━━━━━\u001b[0m\u001b[37m\u001b[0m \u001b[1m18s\u001b[0m 20ms/step - accuracy: 0.0793 - loss: 5.9181 - val_accuracy: 0.0808 - val_loss: 6.6025 - learning_rate: 1.0000e-04\n",
            "Epoch 36/100\n",
            "\u001b[1m473/473\u001b[0m \u001b[32m━━━━━━━━━━━━━━━━━━━━\u001b[0m\u001b[37m\u001b[0m \u001b[1m12s\u001b[0m 26ms/step - accuracy: 0.0791 - loss: 5.9241 - val_accuracy: 0.0797 - val_loss: 6.6086 - learning_rate: 1.0000e-04\n",
            "Epoch 37/100\n",
            "\u001b[1m473/473\u001b[0m \u001b[32m━━━━━━━━━━━━━━━━━━━━\u001b[0m\u001b[37m\u001b[0m \u001b[1m20s\u001b[0m 25ms/step - accuracy: 0.0820 - loss: 5.8880 - val_accuracy: 0.0797 - val_loss: 6.5880 - learning_rate: 1.0000e-04\n",
            "Epoch 38/100\n",
            "\u001b[1m473/473\u001b[0m \u001b[32m━━━━━━━━━━━━━━━━━━━━\u001b[0m\u001b[37m\u001b[0m \u001b[1m9s\u001b[0m 18ms/step - accuracy: 0.0799 - loss: 5.8699 - val_accuracy: 0.0811 - val_loss: 6.5827 - learning_rate: 1.0000e-04\n",
            "Epoch 39/100\n",
            "\u001b[1m473/473\u001b[0m \u001b[32m━━━━━━━━━━━━━━━━━━━━\u001b[0m\u001b[37m\u001b[0m \u001b[1m13s\u001b[0m 25ms/step - accuracy: 0.0816 - loss: 5.8414 - val_accuracy: 0.0838 - val_loss: 6.5847 - learning_rate: 1.0000e-04\n",
            "Epoch 40/100\n",
            "\u001b[1m473/473\u001b[0m \u001b[32m━━━━━━━━━━━━━━━━━━━━\u001b[0m\u001b[37m\u001b[0m \u001b[1m21s\u001b[0m 25ms/step - accuracy: 0.0826 - loss: 5.8183 - val_accuracy: 0.0822 - val_loss: 6.5703 - learning_rate: 1.0000e-04\n",
            "Epoch 41/100\n",
            "\u001b[1m473/473\u001b[0m \u001b[32m━━━━━━━━━━━━━━━━━━━━\u001b[0m\u001b[37m\u001b[0m \u001b[1m20s\u001b[0m 25ms/step - accuracy: 0.0819 - loss: 5.8129 - val_accuracy: 0.0834 - val_loss: 6.5700 - learning_rate: 1.0000e-04\n",
            "Epoch 42/100\n",
            "\u001b[1m473/473\u001b[0m \u001b[32m━━━━━━━━━━━━━━━━━━━━\u001b[0m\u001b[37m\u001b[0m \u001b[1m21s\u001b[0m 25ms/step - accuracy: 0.0827 - loss: 5.8050 - val_accuracy: 0.0848 - val_loss: 6.5613 - learning_rate: 1.0000e-04\n",
            "Epoch 43/100\n",
            "\u001b[1m473/473\u001b[0m \u001b[32m━━━━━━━━━━━━━━━━━━━━\u001b[0m\u001b[37m\u001b[0m \u001b[1m10s\u001b[0m 21ms/step - accuracy: 0.0858 - loss: 5.7846 - val_accuracy: 0.0848 - val_loss: 6.5584 - learning_rate: 1.0000e-04\n",
            "Epoch 44/100\n",
            "\u001b[1m473/473\u001b[0m \u001b[32m━━━━━━━━━━━━━━━━━━━━\u001b[0m\u001b[37m\u001b[0m \u001b[1m12s\u001b[0m 26ms/step - accuracy: 0.0865 - loss: 5.7411 - val_accuracy: 0.0839 - val_loss: 6.5596 - learning_rate: 1.0000e-04\n",
            "Epoch 45/100\n",
            "\u001b[1m473/473\u001b[0m \u001b[32m━━━━━━━━━━━━━━━━━━━━\u001b[0m\u001b[37m\u001b[0m \u001b[1m10s\u001b[0m 21ms/step - accuracy: 0.0865 - loss: 5.7395 - val_accuracy: 0.0859 - val_loss: 6.5484 - learning_rate: 1.0000e-04\n",
            "Epoch 46/100\n",
            "\u001b[1m473/473\u001b[0m \u001b[32m━━━━━━━━━━━━━━━━━━━━\u001b[0m\u001b[37m\u001b[0m \u001b[1m12s\u001b[0m 25ms/step - accuracy: 0.0835 - loss: 5.7534 - val_accuracy: 0.0862 - val_loss: 6.5623 - learning_rate: 1.0000e-04\n",
            "Epoch 47/100\n",
            "\u001b[1m473/473\u001b[0m \u001b[32m━━━━━━━━━━━━━━━━━━━━\u001b[0m\u001b[37m\u001b[0m \u001b[1m21s\u001b[0m 26ms/step - accuracy: 0.0862 - loss: 5.7186 - val_accuracy: 0.0858 - val_loss: 6.5438 - learning_rate: 1.0000e-04\n",
            "Epoch 48/100\n",
            "\u001b[1m473/473\u001b[0m \u001b[32m━━━━━━━━━━━━━━━━━━━━\u001b[0m\u001b[37m\u001b[0m \u001b[1m20s\u001b[0m 26ms/step - accuracy: 0.0861 - loss: 5.7177 - val_accuracy: 0.0871 - val_loss: 6.5343 - learning_rate: 1.0000e-04\n",
            "Epoch 49/100\n",
            "\u001b[1m473/473\u001b[0m \u001b[32m━━━━━━━━━━━━━━━━━━━━\u001b[0m\u001b[37m\u001b[0m \u001b[1m11s\u001b[0m 24ms/step - accuracy: 0.0904 - loss: 5.6815 - val_accuracy: 0.0877 - val_loss: 6.5353 - learning_rate: 1.0000e-04\n",
            "Epoch 50/100\n",
            "\u001b[1m473/473\u001b[0m \u001b[32m━━━━━━━━━━━━━━━━━━━━\u001b[0m\u001b[37m\u001b[0m \u001b[1m24s\u001b[0m 31ms/step - accuracy: 0.0891 - loss: 5.6768 - val_accuracy: 0.0892 - val_loss: 6.5298 - learning_rate: 1.0000e-04\n",
            "Epoch 51/100\n",
            "\u001b[1m473/473\u001b[0m \u001b[32m━━━━━━━━━━━━━━━━━━━━\u001b[0m\u001b[37m\u001b[0m \u001b[1m16s\u001b[0m 22ms/step - accuracy: 0.0882 - loss: 5.6690 - val_accuracy: 0.0882 - val_loss: 6.5256 - learning_rate: 1.0000e-04\n",
            "Epoch 52/100\n",
            "\u001b[1m473/473\u001b[0m \u001b[32m━━━━━━━━━━━━━━━━━━━━\u001b[0m\u001b[37m\u001b[0m \u001b[1m12s\u001b[0m 25ms/step - accuracy: 0.0872 - loss: 5.6617 - val_accuracy: 0.0874 - val_loss: 6.5280 - learning_rate: 1.0000e-04\n",
            "Epoch 53/100\n",
            "\u001b[1m473/473\u001b[0m \u001b[32m━━━━━━━━━━━━━━━━━━━━\u001b[0m\u001b[37m\u001b[0m \u001b[1m20s\u001b[0m 25ms/step - accuracy: 0.0907 - loss: 5.6287 - val_accuracy: 0.0872 - val_loss: 6.5292 - learning_rate: 1.0000e-04\n",
            "Epoch 54/100\n",
            "\u001b[1m473/473\u001b[0m \u001b[32m━━━━━━━━━━━━━━━━━━━━\u001b[0m\u001b[37m\u001b[0m \u001b[1m20s\u001b[0m 25ms/step - accuracy: 0.0922 - loss: 5.6115 - val_accuracy: 0.0891 - val_loss: 6.5218 - learning_rate: 1.0000e-04\n",
            "Epoch 55/100\n",
            "\u001b[1m473/473\u001b[0m \u001b[32m━━━━━━━━━━━━━━━━━━━━\u001b[0m\u001b[37m\u001b[0m \u001b[1m21s\u001b[0m 25ms/step - accuracy: 0.0911 - loss: 5.5954 - val_accuracy: 0.0888 - val_loss: 6.5331 - learning_rate: 1.0000e-04\n",
            "Epoch 56/100\n",
            "\u001b[1m473/473\u001b[0m \u001b[32m━━━━━━━━━━━━━━━━━━━━\u001b[0m\u001b[37m\u001b[0m \u001b[1m21s\u001b[0m 26ms/step - accuracy: 0.0911 - loss: 5.5739 - val_accuracy: 0.0903 - val_loss: 6.5255 - learning_rate: 1.0000e-04\n",
            "Epoch 57/100\n",
            "\u001b[1m473/473\u001b[0m \u001b[32m━━━━━━━━━━━━━━━━━━━━\u001b[0m\u001b[37m\u001b[0m \u001b[1m11s\u001b[0m 24ms/step - accuracy: 0.0916 - loss: 5.5812 - val_accuracy: 0.0906 - val_loss: 6.5105 - learning_rate: 1.0000e-04\n",
            "Epoch 58/100\n",
            "\u001b[1m473/473\u001b[0m \u001b[32m━━━━━━━━━━━━━━━━━━━━\u001b[0m\u001b[37m\u001b[0m \u001b[1m19s\u001b[0m 22ms/step - accuracy: 0.0931 - loss: 5.5831 - val_accuracy: 0.0903 - val_loss: 6.5012 - learning_rate: 1.0000e-04\n",
            "Epoch 59/100\n",
            "\u001b[1m473/473\u001b[0m \u001b[32m━━━━━━━━━━━━━━━━━━━━\u001b[0m\u001b[37m\u001b[0m \u001b[1m21s\u001b[0m 22ms/step - accuracy: 0.0932 - loss: 5.5509 - val_accuracy: 0.0895 - val_loss: 6.5151 - learning_rate: 1.0000e-04\n",
            "Epoch 60/100\n",
            "\u001b[1m473/473\u001b[0m \u001b[32m━━━━━━━━━━━━━━━━━━━━\u001b[0m\u001b[37m\u001b[0m \u001b[1m11s\u001b[0m 24ms/step - accuracy: 0.0964 - loss: 5.5374 - val_accuracy: 0.0911 - val_loss: 6.4987 - learning_rate: 1.0000e-04\n",
            "Epoch 61/100\n",
            "\u001b[1m473/473\u001b[0m \u001b[32m━━━━━━━━━━━━━━━━━━━━\u001b[0m\u001b[37m\u001b[0m \u001b[1m11s\u001b[0m 23ms/step - accuracy: 0.0958 - loss: 5.5123 - val_accuracy: 0.0917 - val_loss: 6.5080 - learning_rate: 1.0000e-04\n",
            "Epoch 62/100\n",
            "\u001b[1m473/473\u001b[0m \u001b[32m━━━━━━━━━━━━━━━━━━━━\u001b[0m\u001b[37m\u001b[0m \u001b[1m21s\u001b[0m 23ms/step - accuracy: 0.0946 - loss: 5.5240 - val_accuracy: 0.0910 - val_loss: 6.4922 - learning_rate: 1.0000e-04\n",
            "Epoch 63/100\n",
            "\u001b[1m473/473\u001b[0m \u001b[32m━━━━━━━━━━━━━━━━━━━━\u001b[0m\u001b[37m\u001b[0m \u001b[1m11s\u001b[0m 24ms/step - accuracy: 0.0966 - loss: 5.4962 - val_accuracy: 0.0910 - val_loss: 6.5063 - learning_rate: 1.0000e-04\n",
            "Epoch 64/100\n",
            "\u001b[1m473/473\u001b[0m \u001b[32m━━━━━━━━━━━━━━━━━━━━\u001b[0m\u001b[37m\u001b[0m \u001b[1m25s\u001b[0m 33ms/step - accuracy: 0.0951 - loss: 5.5021 - val_accuracy: 0.0901 - val_loss: 6.4921 - learning_rate: 1.0000e-04\n",
            "Epoch 65/100\n",
            "\u001b[1m473/473\u001b[0m \u001b[32m━━━━━━━━━━━━━━━━━━━━\u001b[0m\u001b[37m\u001b[0m \u001b[1m17s\u001b[0m 25ms/step - accuracy: 0.0981 - loss: 5.4835 - val_accuracy: 0.0916 - val_loss: 6.4813 - learning_rate: 1.0000e-04\n",
            "Epoch 66/100\n",
            "\u001b[1m473/473\u001b[0m \u001b[32m━━━━━━━━━━━━━━━━━━━━\u001b[0m\u001b[37m\u001b[0m \u001b[1m21s\u001b[0m 27ms/step - accuracy: 0.0974 - loss: 5.4712 - val_accuracy: 0.0914 - val_loss: 6.4802 - learning_rate: 1.0000e-04\n",
            "Epoch 67/100\n",
            "\u001b[1m473/473\u001b[0m \u001b[32m━━━━━━━━━━━━━━━━━━━━\u001b[0m\u001b[37m\u001b[0m \u001b[1m19s\u001b[0m 23ms/step - accuracy: 0.0969 - loss: 5.4522 - val_accuracy: 0.0916 - val_loss: 6.5095 - learning_rate: 1.0000e-04\n",
            "Epoch 68/100\n",
            "\u001b[1m473/473\u001b[0m \u001b[32m━━━━━━━━━━━━━━━━━━━━\u001b[0m\u001b[37m\u001b[0m \u001b[1m22s\u001b[0m 26ms/step - accuracy: 0.1014 - loss: 5.4365 - val_accuracy: 0.0937 - val_loss: 6.4906 - learning_rate: 1.0000e-04\n",
            "Epoch 69/100\n",
            "\u001b[1m473/473\u001b[0m \u001b[32m━━━━━━━━━━━━━━━━━━━━\u001b[0m\u001b[37m\u001b[0m \u001b[1m10s\u001b[0m 22ms/step - accuracy: 0.0978 - loss: 5.4345 - val_accuracy: 0.0922 - val_loss: 6.4888 - learning_rate: 1.0000e-04\n",
            "Epoch 70/100\n",
            "\u001b[1m473/473\u001b[0m \u001b[32m━━━━━━━━━━━━━━━━━━━━\u001b[0m\u001b[37m\u001b[0m \u001b[1m11s\u001b[0m 24ms/step - accuracy: 0.0999 - loss: 5.4212 - val_accuracy: 0.0938 - val_loss: 6.4692 - learning_rate: 5.0000e-05\n",
            "Epoch 71/100\n",
            "\u001b[1m473/473\u001b[0m \u001b[32m━━━━━━━━━━━━━━━━━━━━\u001b[0m\u001b[37m\u001b[0m \u001b[1m21s\u001b[0m 25ms/step - accuracy: 0.1049 - loss: 5.3702 - val_accuracy: 0.0934 - val_loss: 6.4862 - learning_rate: 5.0000e-05\n",
            "Epoch 72/100\n",
            "\u001b[1m473/473\u001b[0m \u001b[32m━━━━━━━━━━━━━━━━━━━━\u001b[0m\u001b[37m\u001b[0m \u001b[1m22s\u001b[0m 27ms/step - accuracy: 0.1022 - loss: 5.3904 - val_accuracy: 0.0935 - val_loss: 6.4906 - learning_rate: 5.0000e-05\n",
            "Epoch 73/100\n",
            "\u001b[1m473/473\u001b[0m \u001b[32m━━━━━━━━━━━━━━━━━━━━\u001b[0m\u001b[37m\u001b[0m \u001b[1m11s\u001b[0m 22ms/step - accuracy: 0.0997 - loss: 5.3705 - val_accuracy: 0.0933 - val_loss: 6.4833 - learning_rate: 5.0000e-05\n",
            "Epoch 74/100\n",
            "\u001b[1m473/473\u001b[0m \u001b[32m━━━━━━━━━━━━━━━━━━━━\u001b[0m\u001b[37m\u001b[0m \u001b[1m20s\u001b[0m 21ms/step - accuracy: 0.1026 - loss: 5.3669 - val_accuracy: 0.0948 - val_loss: 6.4729 - learning_rate: 2.5000e-05\n",
            "Epoch 75/100\n",
            "\u001b[1m473/473\u001b[0m \u001b[32m━━━━━━━━━━━━━━━━━━━━\u001b[0m\u001b[37m\u001b[0m \u001b[1m13s\u001b[0m 26ms/step - accuracy: 0.1040 - loss: 5.3517 - val_accuracy: 0.0943 - val_loss: 6.4725 - learning_rate: 2.5000e-05\n",
            "Epoch 76/100\n",
            "\u001b[1m473/473\u001b[0m \u001b[32m━━━━━━━━━━━━━━━━━━━━\u001b[0m\u001b[37m\u001b[0m \u001b[1m21s\u001b[0m 28ms/step - accuracy: 0.1066 - loss: 5.3480 - val_accuracy: 0.0941 - val_loss: 6.4719 - learning_rate: 2.5000e-05\n",
            "Epoch 77/100\n",
            "\u001b[1m473/473\u001b[0m \u001b[32m━━━━━━━━━━━━━━━━━━━━\u001b[0m\u001b[37m\u001b[0m \u001b[1m10s\u001b[0m 20ms/step - accuracy: 0.1030 - loss: 5.3435 - val_accuracy: 0.0946 - val_loss: 6.4751 - learning_rate: 1.2500e-05\n",
            "Epoch 78/100\n",
            "\u001b[1m473/473\u001b[0m \u001b[32m━━━━━━━━━━━━━━━━━━━━\u001b[0m\u001b[37m\u001b[0m \u001b[1m17s\u001b[0m 34ms/step - accuracy: 0.1040 - loss: 5.3445 - val_accuracy: 0.0951 - val_loss: 6.4703 - learning_rate: 1.2500e-05\n",
            "Epoch 79/100\n",
            "\u001b[1m473/473\u001b[0m \u001b[32m━━━━━━━━━━━━━━━━━━━━\u001b[0m\u001b[37m\u001b[0m \u001b[1m15s\u001b[0m 21ms/step - accuracy: 0.1048 - loss: 5.3471 - val_accuracy: 0.0948 - val_loss: 6.4800 - learning_rate: 1.2500e-05\n",
            "Epoch 80/100\n",
            "\u001b[1m473/473\u001b[0m \u001b[32m━━━━━━━━━━━━━━━━━━━━\u001b[0m\u001b[37m\u001b[0m \u001b[1m12s\u001b[0m 26ms/step - accuracy: 0.1039 - loss: 5.3347 - val_accuracy: 0.0945 - val_loss: 6.4767 - learning_rate: 6.2500e-06\n"
          ]
        }
      ],
      "source": [
        "from keras.callbacks import EarlyStopping\n",
        "from keras.callbacks import ReduceLROnPlateau\n",
        "\n",
        "EPOCHS = 100  # Training for more epochs to leverage pre-trained embeddings\n",
        "\n",
        "# Try a learning rate schedule that reduces the learning rate when it plateaus:\n",
        "reduce_lr = ReduceLROnPlateau(\n",
        "    monitor='val_loss',\n",
        "    factor=0.5,\n",
        "    patience=3,\n",
        "    min_lr=1e-6\n",
        ")\n",
        "\n",
        "# if after 3 cycles of LR reduction the thing does not improve shut it down\n",
        "early_stopping = EarlyStopping(\n",
        "    monitor='val_loss',\n",
        "    patience=10,\n",
        "    restore_best_weights=True\n",
        ")\n",
        "\n",
        "# Train the Model\n",
        "history = model.fit(\n",
        "    X_train,\n",
        "    y_train,\n",
        "    validation_data=(X_val, y_val),\n",
        "    epochs=EPOCHS,\n",
        "    batch_size=128,\n",
        "    callbacks=[reduce_lr, early_stopping]\n",
        ")"
      ]
    },
    {
      "cell_type": "code",
      "execution_count": 26,
      "id": "433ec1a2",
      "metadata": {
        "colab": {
          "base_uri": "https://localhost:8080/",
          "height": 476
        },
        "id": "433ec1a2",
        "outputId": "f8232a2f-53c7-4d06-a80d-462b010f8d99"
      },
      "outputs": [
        {
          "output_type": "display_data",
          "data": {
            "text/plain": [
              "<Figure size 1000x600 with 1 Axes>"
            ],
            "image/png": "[encoded data removed]"
          },
          "metadata": {}
        }
      ],
      "source": [
        "plot_history(history)"
      ]
    },
    {
      "cell_type": "code",
      "execution_count": 27,
      "id": "0441eb7b",
      "metadata": {
        "colab": {
          "base_uri": "https://localhost:8080/",
          "height": 52
        },
        "id": "0441eb7b",
        "outputId": "aa0bfd96-6470-4547-bf03-f770758a8a95"
      },
      "outputs": [
        {
          "output_type": "execute_result",
          "data": {
            "text/plain": [
              "\"hamlet and flout pope 133 information collier 131 teach above pope forth book v may'st lies om ap 138 pockets with\""
            ],
            "application/vnd.google.colaboratory.intrinsic+json": {
              "type": "string"
            }
          },
          "metadata": {},
          "execution_count": 27
        }
      ],
      "source": [
        "# run the same test as before\n",
        "generate_text(model, tokenizer, 'hamlet', SEQ_LENGTH)"
      ]
    },
    {
      "cell_type": "markdown",
      "id": "742095fb",
      "metadata": {
        "id": "742095fb"
      },
      "source": [
        "## Criteria\n",
        "\n",
        "|Criteria|Complete|Incomplete|\n",
        "|----|----|----|\n",
        "|Task 1|The task has been completed successfully and there are no errors.|The task is still incomplete and there is at least one error.|\n",
        "|Task 2|The task has been completed successfully and there are no errors.|The task is still incomplete and there is at least one error.|\n",
        "|Task 3|The task has been completed successfully and there are no errors.|The task is still incomplete and there is at least one error.|\n",
        "|Task 4|The task has been completed successfully and there are no errors.|The task is still incomplete and there is at least one error.|"
      ]
    },
    {
      "cell_type": "markdown",
      "id": "1990e2d2",
      "metadata": {
        "id": "1990e2d2"
      },
      "source": [
        "## Submission Information\n",
        "\n",
        "🚨**Please review our [Assignment Submission Guide](https://github.com/UofT-DSI/onboarding/blob/main/onboarding_documents/submissions.md)**🚨 for detailed instructions on how to format, branch, and submit your work. Following these guidelines is crucial for your submissions to be evaluated correctly.\n",
        "\n",
        "### Submission Parameters:\n",
        "* Submission Due Date: `HH:MM AM/PM - DD/MM/YYYY`\n",
        "* The branch name for your repo should be: `assignment-2`\n",
        "* What to submit for this assignment:\n",
        "    * This Jupyter Notebook (assignment_2.ipynb) should be populated and should be the only change in your pull request.\n",
        "* What the pull request link should look like for this assignment: `https://github.com/<your_github_username>/deep_learning/pull/<pr_id>`\n",
        "    * Open a private window in your browser. Copy and paste the link to your pull request into the address bar. Make sure you can see your pull request properly. This helps the technical facilitator and learning support staff review your submission easily.\n",
        "\n",
        "Checklist:\n",
        "- [ ] Created a branch with the correct naming convention.\n",
        "- [ ] Ensured that the repository is public.\n",
        "- [ ] Reviewed the PR description guidelines and adhered to them.\n",
        "- [ ] Verify that the link is accessible in a private browser window.\n",
        "\n",
        "If you encounter any difficulties or have questions, please don't hesitate to reach out to our team via our Slack at `#cohort-3-help`. Our Technical Facilitators and Learning Support staff are here to help you navigate any challenges."
      ]
    }
  ],
  "metadata": {
    "accelerator": "GPU",
    "colab": {
      "gpuType": "T4",
      "provenance": []
    },
    "kernelspec": {
      "display_name": "Python 3",
      "name": "python3"
    },
    "language_info": {
      "codemirror_mode": {
        "name": "ipython",
        "version": 3
      },
      "file_extension": ".py",
      "mimetype": "text/x-python",
      "name": "python",
      "nbconvert_exporter": "python",
      "pygments_lexer": "ipython3",
      "version": "3.9.19"
    }
  },
  "nbformat": 4,
  "nbformat_minor": 5
}